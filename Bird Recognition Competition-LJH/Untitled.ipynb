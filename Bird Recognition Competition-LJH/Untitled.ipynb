{
 "cells": [
  {
   "cell_type": "code",
   "execution_count": 2,
   "metadata": {},
   "outputs": [],
   "source": [
    "import torch\n",
    "import numpy as np\n",
    "from torch.autograd import Variable #Parameters in the neuron network"
   ]
  },
  {
   "cell_type": "code",
   "execution_count": 5,
   "metadata": {},
   "outputs": [
    {
     "name": "stdout",
     "output_type": "stream",
     "text": [
      "\n",
      "numpy\n",
      " [[0 1 2]\n",
      " [3 4 5]] \n",
      "torch\n",
      " \n",
      " 0  1  2\n",
      " 3  4  5\n",
      "[torch.LongTensor of size 2x3]\n",
      " \n",
      "tensor2array\n",
      " [[0 1 2]\n",
      " [3 4 5]]\n"
     ]
    }
   ],
   "source": [
    "np_data = np.arange(6).reshape((2,3))\n",
    "torch_data = torch.from_numpy(np_data)\n",
    "tensor2array = torch_data.numpy()\n",
    "\n",
    "print(\n",
    "    '\\nnumpy\\n', np_data,\n",
    "    '\\ntorch\\n', torch_data,\n",
    "    '\\ntensor2array\\n', tensor2array,\n",
    ")"
   ]
  },
  {
   "cell_type": "code",
   "execution_count": 6,
   "metadata": {
    "scrolled": true
   },
   "outputs": [
    {
     "name": "stdout",
     "output_type": "stream",
     "text": [
      "\n",
      "torch:\n",
      " \n",
      " 3\n",
      " 4\n",
      "[torch.FloatTensor of size 2]\n",
      " \n",
      "torch:\n",
      " 0.0 \n",
      "torch:\n",
      " 0.0\n"
     ]
    }
   ],
   "source": [
    "# data = [[1, 2], [3, 4]]\n",
    "data = [3, 4]\n",
    "# data = np.array(data)\n",
    "tensor = torch.FloatTensor(data)\n",
    "\n",
    "print(\n",
    "#     '\\nnumpy:\\n', np.matmul(data, data),\n",
    "#     '\\nnumpy:\\n', data.dot(data),\n",
    "#     '\\ntorch:\\n', torch.mm(tensor, tensor),\n",
    "    '\\ntorch:\\n', tensor,\n",
    "    '\\ntorch:\\n', torch.dot(tensor, tensor),\n",
    "    '\\ntorch:\\n', tensor.dot(tensor)\n",
    ")"
   ]
  },
  {
   "cell_type": "code",
   "execution_count": 7,
   "metadata": {},
   "outputs": [],
   "source": [
    "tensor = torch.FloatTensor([[1, 2], [3, 4]])\n",
    "variable = Variable(tensor, requires_grad=True)"
   ]
  },
  {
   "cell_type": "code",
   "execution_count": 8,
   "metadata": {},
   "outputs": [
    {
     "name": "stdout",
     "output_type": "stream",
     "text": [
      "[[ 2  3]\n",
      " [ 6 11]]\n",
      "[[False False]\n",
      " [False  True]]\n",
      "[1 1]\n"
     ]
    }
   ],
   "source": [
    "a = np.arange(4).reshape((2,2))\n",
    "b = np.arange(4).reshape((2,2))\n",
    "c = a.dot(b)\n",
    "print(c)\n",
    "print(b==3)\n",
    "print(np.argmax(c, axis=1))"
   ]
  },
  {
   "cell_type": "code",
   "execution_count": 34,
   "metadata": {},
   "outputs": [
    {
     "name": "stdout",
     "output_type": "stream",
     "text": [
      "[[ 1  2  3  4  5]\n",
      " [ 6  7  8  9 10]\n",
      " [11 12 13 14 15]]\n",
      "[[ 1  6 11]\n",
      " [ 2  7 12]\n",
      " [ 3  8 13]\n",
      " [ 4  9 14]\n",
      " [ 5 10 15]]\n",
      "15\n",
      "8.0\n",
      "[  1   3   6  10  15  21  28  36  45  55  66  78  91 105 120]\n",
      "[[1 1 1 1]\n",
      " [1 1 1 1]\n",
      " [1 1 1 1]]\n",
      "(array([0, 0, 0, 0, 0, 1, 1, 1, 1, 1, 2, 2, 2, 2, 2]), array([0, 1, 2, 3, 4, 0, 1, 2, 3, 4, 0, 1, 2, 3, 4]))\n",
      "[[5 5 5 5 5]\n",
      " [6 7 8 9 9]\n",
      " [9 9 9 9 9]]\n",
      "[[ 1  2  3  4  5]\n",
      " [ 6  7  8  9 10]\n",
      " [11 12 13 14 15]]\n",
      "[14 13 12 11 10  9  8  7  6  5  4  3]\n",
      "[14 13 12 11 10  9  8  7  6  5  4  3]\n"
     ]
    }
   ],
   "source": [
    "A = np.arange(1,16).reshape((3,5))\n",
    "print(A)\n",
    "print(A.T)\n",
    "print(np.max(A))\n",
    "print(np.median(A))\n",
    "print(np.cumsum(A))\n",
    "print(np.diff(A))\n",
    "print(np.nonzero(A))\n",
    "print(A.clip(5, 9))\n",
    "print(A)\n",
    "np.arange\n",
    "\n",
    "B = np.arange(14, 2, -1)\n",
    "print(B)\n",
    "print(B.T)"
   ]
  },
  {
   "cell_type": "code",
   "execution_count": 43,
   "metadata": {},
   "outputs": [
    {
     "name": "stdout",
     "output_type": "stream",
     "text": [
      "[1 2 3 4 5]\n",
      "[ 6  7  8  9 10]\n",
      "[11 12 13 14 15]\n",
      "[ 1  6 11]\n",
      "[ 2  7 12]\n",
      "[ 3  8 13]\n",
      "[ 4  9 14]\n",
      "[ 5 10 15]\n",
      "1\n",
      "2\n",
      "3\n",
      "4\n",
      "5\n",
      "6\n",
      "7\n",
      "8\n",
      "9\n",
      "10\n",
      "11\n",
      "12\n",
      "13\n",
      "14\n",
      "15\n"
     ]
    },
    {
     "data": {
      "text/plain": [
       "array([ 1,  2,  3,  4,  5,  6,  7,  8,  9, 10, 11, 12, 13, 14, 15])"
      ]
     },
     "execution_count": 43,
     "metadata": {},
     "output_type": "execute_result"
    }
   ],
   "source": [
    "for row in A:\n",
    "    print(row)\n",
    "for column in A.T:\n",
    "    print(column)\n",
    "for item in A.flat:\n",
    "    print(item)\n",
    "    \n",
    "A.flatten()"
   ]
  },
  {
   "cell_type": "code",
   "execution_count": 10,
   "metadata": {},
   "outputs": [
    {
     "name": "stdout",
     "output_type": "stream",
     "text": [
      "[[1]\n",
      " [1]\n",
      " [1]\n",
      " [2]\n",
      " [2]\n",
      " [2]]\n",
      "[[1 2]\n",
      " [1 2]\n",
      " [1 2]]\n",
      "(3, 1) (6, 1)\n",
      "(3, 2)\n",
      "(1, 3, 1)\n",
      "[[[1]]\n",
      "\n",
      " [[1]]\n",
      "\n",
      " [[1]]]\n",
      "[[1 2 2 1]\n",
      " [1 2 2 1]\n",
      " [1 2 2 1]]\n"
     ]
    }
   ],
   "source": [
    "# Array Merge\n",
    "A = np.array([1, 1, 1])[:, np.newaxis]\n",
    "B = np.array([2, 2, 2])[:, np.newaxis]\n",
    "C = np.vstack((A, B))\n",
    "D = np.hstack((A, B))\n",
    "\n",
    "print(C)\n",
    "print(D)\n",
    "print(A.shape, C.shape)\n",
    "print(D.shape)\n",
    "print(A[np.newaxis, :].shape)\n",
    "print(A[:, np.newaxis])\n",
    "\n",
    "E = np.concatenate((A, B, B, A), axis = 1)\n",
    "print(E)"
   ]
  },
  {
   "cell_type": "code",
   "execution_count": null,
   "metadata": {},
   "outputs": [],
   "source": []
  }
 ],
 "metadata": {
  "kernelspec": {
   "display_name": "Python 3",
   "language": "python",
   "name": "python3"
  },
  "language_info": {
   "codemirror_mode": {
    "name": "ipython",
    "version": 3
   },
   "file_extension": ".py",
   "mimetype": "text/x-python",
   "name": "python",
   "nbconvert_exporter": "python",
   "pygments_lexer": "ipython3",
   "version": "3.6.4"
  }
 },
 "nbformat": 4,
 "nbformat_minor": 2
}
